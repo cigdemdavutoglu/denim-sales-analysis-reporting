{
 "cells": [
  {
   "cell_type": "code",
   "execution_count": 1,
   "id": "5e0602cd-dcef-405e-a028-d483b45b7169",
   "metadata": {},
   "outputs": [],
   "source": [
    "import pandas as pd\n",
    "import matplotlib.pyplot as plt"
   ]
  },
  {
   "cell_type": "code",
   "execution_count": 2,
   "id": "76c2f1a2-2734-4c8d-b585-67f8c451bc3e",
   "metadata": {},
   "outputs": [],
   "source": [
    "dfs = pd.read_excel(\"Mavi Data Analytics Denim Fit Sales Analysis.csv.xlsx\", sheet_name=None, engine='openpyxl')"
   ]
  },
  {
   "cell_type": "code",
   "execution_count": 3,
   "id": "304481bb-fa72-44b1-b9a7-8684d571e0d0",
   "metadata": {},
   "outputs": [],
   "source": [
    "df1 = dfs['Sales']\n",
    "df2 = dfs['Products']"
   ]
  },
  {
   "cell_type": "code",
   "execution_count": 4,
   "id": "ba98eb18-60e2-46b3-a474-da18a0c7d8fe",
   "metadata": {},
   "outputs": [
    {
     "name": "stdout",
     "output_type": "stream",
     "text": [
      "##################### Shape #####################\n",
      "(34070, 11)\n",
      "##################### Types #####################\n",
      "DocID                       int64\n",
      "StoreCode                   int64\n",
      "ProductItemCode            object\n",
      "ProductCode                object\n",
      "Date               datetime64[ns]\n",
      "ReturnFlag                  int64\n",
      "Time                        int64\n",
      "Quantity                    int64\n",
      "Amount                    float64\n",
      "DiscountAmount            float64\n",
      "ChangeCardFlag              int64\n",
      "dtype: object\n",
      "##################### Head #####################\n",
      "   DocID  StoreCode   ProductItemCode    ProductCode       Date  ReturnFlag  \\\n",
      "0      1       1837  M100462-80835007  M100462-80835 2024-02-18           1   \n",
      "1      2       1851  M100462-80835007  M100462-80835 2024-04-07           0   \n",
      "2      3       1666  M100462-80835007  M100462-80835 2024-02-04           0   \n",
      "\n",
      "   Time  Quantity   Amount  DiscountAmount  ChangeCardFlag  \n",
      "0  1736        -2 -1396.35      -349.09091               0  \n",
      "1  1853         2   999.99       745.44545               0  \n",
      "2  1603         2  1396.35       349.09091               0  \n",
      "##################### Tail #####################\n",
      "       DocID  StoreCode   ProductItemCode    ProductCode       Date  \\\n",
      "34067  39996       1825  M100980-82211042  M100980-82211 2025-01-11   \n",
      "34068  39997       1825  M101225-80680017  M101225-80680 2024-11-01   \n",
      "34069  40000       1631  M100277-33687015  M100277-33687 2024-12-26   \n",
      "\n",
      "       ReturnFlag  Time  Quantity      Amount  DiscountAmount  ChangeCardFlag  \n",
      "34067           0  1541         1  1272.71818             0.0               0  \n",
      "34068           0  1738         1   818.17000             0.0               0  \n",
      "34069           0  1440         1   909.08000             0.0               0  \n",
      "##################### NA #####################\n",
      "DocID              0\n",
      "StoreCode          0\n",
      "ProductItemCode    0\n",
      "ProductCode        0\n",
      "Date               0\n",
      "ReturnFlag         0\n",
      "Time               0\n",
      "Quantity           0\n",
      "Amount             0\n",
      "DiscountAmount     0\n",
      "ChangeCardFlag     0\n",
      "dtype: int64\n"
     ]
    }
   ],
   "source": [
    "def check_df(dataframe):\n",
    "    print(\"##################### Shape #####################\")\n",
    "    print(dataframe.shape)\n",
    "    print(\"##################### Types #####################\")\n",
    "    print(dataframe.dtypes)\n",
    "    print(\"##################### Head #####################\")\n",
    "    print(dataframe.head(3))\n",
    "    print(\"##################### Tail #####################\")\n",
    "    print(dataframe.tail(3))\n",
    "    print(\"##################### NA #####################\")\n",
    "    print(dataframe.isnull().sum())\n",
    "    \n",
    "\n",
    "check_df(df1)"
   ]
  },
  {
   "cell_type": "code",
   "execution_count": 5,
   "id": "22b5d66f-5388-46a3-a1ce-2201cb912ec5",
   "metadata": {},
   "outputs": [],
   "source": [
    "#Sütun adlarını daha okunabilir hale getirme\n",
    "df1.columns = [ \"doc_id\", \"store_code\", \"product_item_code\", \"product_code\",\n",
    "    \"date\", \"return_flag\", \"time\", \"quantity\", \"amount\",\n",
    "    \"discount_amount\", \"change_card_flag\"]"
   ]
  },
  {
   "cell_type": "code",
   "execution_count": 6,
   "id": "f6d9b7b2-8cf7-40ec-8c35-e9460f51d9a0",
   "metadata": {},
   "outputs": [],
   "source": [
    "# Type dönüşümleri\n",
    "\n",
    "df1[\"return_flag\"] = df1[\"return_flag\"].astype(bool)\n",
    "df1[\"change_card_flag\"] = df1[\"change_card_flag\"].astype(bool)\n",
    "\n",
    "df1[\"time\"] = df1[\"time\"].astype(str).str.zfill(4)  # eksik haneleri 0 ile doldur\n",
    "df1[\"time\"] = pd.to_datetime(df1[\"time\"], format=\"%H%M\").dt.time\n",
    "\n",
    "df1['store_code'] = df1['store_code'].astype('category')\n",
    "df1['product_code'] = df1['product_code'].astype('category')\n",
    "df1['product_item_code'] = df1['product_item_code'].astype('category')\n"
   ]
  },
  {
   "cell_type": "code",
   "execution_count": 7,
   "id": "c47dff86-a8e9-4c81-8eb0-908a90bd1391",
   "metadata": {},
   "outputs": [
    {
     "data": {
      "text/plain": [
       "doc_id                        int64\n",
       "store_code                 category\n",
       "product_item_code          category\n",
       "product_code               category\n",
       "date                 datetime64[ns]\n",
       "return_flag                    bool\n",
       "time                         object\n",
       "quantity                      int64\n",
       "amount                      float64\n",
       "discount_amount             float64\n",
       "change_card_flag               bool\n",
       "dtype: object"
      ]
     },
     "execution_count": 7,
     "metadata": {},
     "output_type": "execute_result"
    }
   ],
   "source": [
    "# Tip kontrolü\n",
    "df1.dtypes"
   ]
  },
  {
   "cell_type": "code",
   "execution_count": 8,
   "id": "c12a2f11-7f7c-4797-8652-652e96dc3c89",
   "metadata": {},
   "outputs": [],
   "source": [
    "# Tekrar eden değerleri silme\n",
    "df1 = df1.drop_duplicates()"
   ]
  },
  {
   "cell_type": "code",
   "execution_count": 9,
   "id": "f5b220b1-0035-4417-ad4e-fcfddbbce100",
   "metadata": {},
   "outputs": [],
   "source": [
    "# Analizi kolaylaştırmak için datetime sütunu ekle\n",
    "df1['datetime'] = pd.to_datetime(df1['date'].astype(str) + ' ' + df1['time'].astype(str))"
   ]
  },
  {
   "cell_type": "code",
   "execution_count": 10,
   "id": "80cdf1c2-1a72-4eb3-8427-b14fcddb0cbc",
   "metadata": {},
   "outputs": [],
   "source": [
    "# Analiz için satış ve iade ayrımı\n",
    "sales_df = df1[df1[\"return_flag\"] == False].copy()\n",
    "return_df = df1[df1[\"return_flag\"] == True].copy()"
   ]
  },
  {
   "cell_type": "code",
   "execution_count": 11,
   "id": "6ef88ca8-17f7-4fa4-a20b-12dff2410720",
   "metadata": {},
   "outputs": [
    {
     "name": "stdout",
     "output_type": "stream",
     "text": [
      "##################### Shape #####################\n",
      "(25984, 12)\n",
      "##################### Types #####################\n",
      "doc_id                        int64\n",
      "store_code                 category\n",
      "product_item_code          category\n",
      "product_code               category\n",
      "date                 datetime64[ns]\n",
      "return_flag                    bool\n",
      "time                         object\n",
      "quantity                      int64\n",
      "amount                      float64\n",
      "discount_amount             float64\n",
      "change_card_flag               bool\n",
      "datetime             datetime64[ns]\n",
      "dtype: object\n",
      "##################### Head #####################\n",
      "   doc_id store_code product_item_code   product_code       date  return_flag  \\\n",
      "1       2       1851  M100462-80835007  M100462-80835 2024-04-07        False   \n",
      "2       3       1666  M100462-80835007  M100462-80835 2024-02-04        False   \n",
      "3       4       1666  M100462-80835007  M100462-80835 2024-02-02        False   \n",
      "\n",
      "       time  quantity   amount  discount_amount  change_card_flag  \\\n",
      "1  18:53:00         2   999.99        745.44545             False   \n",
      "2  16:03:00         2  1396.35        349.09091             False   \n",
      "3  19:56:00         2  1396.35        349.09091             False   \n",
      "\n",
      "             datetime  \n",
      "1 2024-04-07 18:53:00  \n",
      "2 2024-02-04 16:03:00  \n",
      "3 2024-02-02 19:56:00  \n",
      "##################### Tail #####################\n",
      "       doc_id store_code product_item_code   product_code       date  \\\n",
      "34067   39996       1825  M100980-82211042  M100980-82211 2025-01-11   \n",
      "34068   39997       1825  M101225-80680017  M101225-80680 2024-11-01   \n",
      "34069   40000       1631  M100277-33687015  M100277-33687 2024-12-26   \n",
      "\n",
      "       return_flag      time  quantity      amount  discount_amount  \\\n",
      "34067        False  15:41:00         1  1272.71818              0.0   \n",
      "34068        False  17:38:00         1   818.17000              0.0   \n",
      "34069        False  14:40:00         1   909.08000              0.0   \n",
      "\n",
      "       change_card_flag            datetime  \n",
      "34067             False 2025-01-11 15:41:00  \n",
      "34068             False 2024-11-01 17:38:00  \n",
      "34069             False 2024-12-26 14:40:00  \n",
      "##################### NA #####################\n",
      "doc_id               0\n",
      "store_code           0\n",
      "product_item_code    0\n",
      "product_code         0\n",
      "date                 0\n",
      "return_flag          0\n",
      "time                 0\n",
      "quantity             0\n",
      "amount               0\n",
      "discount_amount      0\n",
      "change_card_flag     0\n",
      "datetime             0\n",
      "dtype: int64\n"
     ]
    }
   ],
   "source": [
    "def check_df(dataframe):\n",
    "    print(\"##################### Shape #####################\")\n",
    "    print(dataframe.shape)\n",
    "    print(\"##################### Types #####################\")\n",
    "    print(dataframe.dtypes)\n",
    "    print(\"##################### Head #####################\")\n",
    "    print(dataframe.head(3))\n",
    "    print(\"##################### Tail #####################\")\n",
    "    print(dataframe.tail(3))\n",
    "    print(\"##################### NA #####################\")\n",
    "    print(dataframe.isnull().sum())\n",
    "\n",
    "\n",
    "check_df(sales_df)"
   ]
  },
  {
   "cell_type": "code",
   "execution_count": 12,
   "id": "59a3c3f9-fcb2-4f1f-a100-20e54f8e2195",
   "metadata": {},
   "outputs": [],
   "source": [
    "# Okumabilirlik açısından veri setinini ismini product_df olarak değiştirme\n",
    "product_df = df2"
   ]
  },
  {
   "cell_type": "code",
   "execution_count": 13,
   "id": "2e715822-35af-468e-a3b6-4c836b493ddb",
   "metadata": {},
   "outputs": [
    {
     "name": "stdout",
     "output_type": "stream",
     "text": [
      "##################### Shape #####################\n",
      "(1511, 10)\n",
      "##################### Types #####################\n",
      "ProductCode           object\n",
      "Class                 object\n",
      "MainCategory          object\n",
      "Category              object\n",
      "SubCategory           object\n",
      "SubCategoryClass      object\n",
      "MainCategoryEN        object\n",
      "CategoryEN            object\n",
      "SubCategoryEN         object\n",
      "SubCategoryClassEN    object\n",
      "dtype: object\n",
      "##################### Head #####################\n",
      "      ProductCode              Class MainCategory   Category     SubCategory  \\\n",
      "0     M1020589168  Ticari Malzemeler    Denim All  Denim All  Denim Pantolon   \n",
      "1  M1011043-90090  Ticari Malzemeler    Denim All  Denim All  Denim Pantolon   \n",
      "2  M1010530-89661  Ticari Malzemeler    Denim All  Denim All  Denim Pantolon   \n",
      "\n",
      "  SubCategoryClass MainCategoryEN CategoryEN SubCategoryEN SubCategoryClassEN  \n",
      "0        Boyfriend      Denim All  Denim All   Denim Pants          Boyfriend  \n",
      "1         Wide Leg      Denim All  Denim All   Denim Pants           Wide Leg  \n",
      "2         Straight      Denim All  Denim All   Denim Pants           Straight  \n",
      "##################### Tail #####################\n",
      "         ProductCode              Class MainCategory   Category  \\\n",
      "1508   M101225-84394  Ticari Malzemeler    Denim All  Denim All   \n",
      "1509  M1010623-88897  Ticari Malzemeler    Denim All  Denim All   \n",
      "1510   M101225-35482  Ticari Malzemeler    Denim All  Denim All   \n",
      "\n",
      "         SubCategory SubCategoryClass MainCategoryEN CategoryEN SubCategoryEN  \\\n",
      "1508  Denim Pantolon            Flare            NaN        NaN           NaN   \n",
      "1509  Denim Pantolon    Slim Straight      Denim All  Denim All   Denim Pants   \n",
      "1510  Denim Pantolon            Flare            NaN        NaN           NaN   \n",
      "\n",
      "     SubCategoryClassEN  \n",
      "1508                NaN  \n",
      "1509      Slim Straight  \n",
      "1510                NaN  \n",
      "##################### NA #####################\n",
      "ProductCode             0\n",
      "Class                   0\n",
      "MainCategory            0\n",
      "Category                0\n",
      "SubCategory             0\n",
      "SubCategoryClass        0\n",
      "MainCategoryEN        278\n",
      "CategoryEN            278\n",
      "SubCategoryEN         280\n",
      "SubCategoryClassEN    280\n",
      "dtype: int64\n"
     ]
    }
   ],
   "source": [
    "def check_df(dataframe):\n",
    "    print(\"##################### Shape #####################\")\n",
    "    print(dataframe.shape)\n",
    "    print(\"##################### Types #####################\")\n",
    "    print(dataframe.dtypes)\n",
    "    print(\"##################### Head #####################\")\n",
    "    print(dataframe.head(3))\n",
    "    print(\"##################### Tail #####################\")\n",
    "    print(dataframe.tail(3))\n",
    "    print(\"##################### NA #####################\")\n",
    "    print(dataframe.isnull().sum())\n",
    "\n",
    "\n",
    "check_df(product_df)"
   ]
  },
  {
   "cell_type": "code",
   "execution_count": 14,
   "id": "d31dcf2a-7f2b-413a-93b6-01670e1868b2",
   "metadata": {},
   "outputs": [],
   "source": [
    "product_df.columns = [\n",
    "    \"product_code\",\n",
    "    \"class\",\n",
    "    \"main_category\",\n",
    "    \"category\",\n",
    "    \"sub_category\",\n",
    "    \"sub_category_class\",\n",
    "    \"main_category_en\",\n",
    "    \"category_en\",\n",
    "    \"sub_category_en\",\n",
    "    \"sub_category_class_en\"\n",
    "]\n"
   ]
  },
  {
   "cell_type": "code",
   "execution_count": 15,
   "id": "9df2dfdc-07b0-49a3-9cc7-85382c3b3223",
   "metadata": {},
   "outputs": [],
   "source": [
    "# Sabit sütunlar analize etki etmeyeceği için çıkarılır.\n",
    "product_df = product_df.drop(columns=[\n",
    "    'class', 'main_category', 'category', 'sub_category',\n",
    "    'main_category_en', 'category_en', 'sub_category_en'\n",
    "])\n"
   ]
  },
  {
   "cell_type": "code",
   "execution_count": 16,
   "id": "6ca3b525-8b9d-48a8-919a-80f67118233a",
   "metadata": {},
   "outputs": [],
   "source": [
    "# sub_category_class , sub_category_class_en kolonları aynı değerlere mi sahip kontrol\n",
    "equal = (product_df['sub_category_class'].astype(str) == product_df['sub_category_class_en'].astype(str))"
   ]
  },
  {
   "cell_type": "code",
   "execution_count": 17,
   "id": "832d648a-d7dd-4fac-a42b-c1a4286b42e6",
   "metadata": {},
   "outputs": [
    {
     "data": {
      "text/plain": [
       "False"
      ]
     },
     "execution_count": 17,
     "metadata": {},
     "output_type": "execute_result"
    }
   ],
   "source": [
    "equal.all()"
   ]
  },
  {
   "cell_type": "code",
   "execution_count": 18,
   "id": "739bc647-7206-4ff1-9a89-c95fe59cc127",
   "metadata": {},
   "outputs": [
    {
     "data": {
      "text/html": [
       "<div>\n",
       "<style scoped>\n",
       "    .dataframe tbody tr th:only-of-type {\n",
       "        vertical-align: middle;\n",
       "    }\n",
       "\n",
       "    .dataframe tbody tr th {\n",
       "        vertical-align: top;\n",
       "    }\n",
       "\n",
       "    .dataframe thead th {\n",
       "        text-align: right;\n",
       "    }\n",
       "</style>\n",
       "<table border=\"1\" class=\"dataframe\">\n",
       "  <thead>\n",
       "    <tr style=\"text-align: right;\">\n",
       "      <th></th>\n",
       "      <th>product_code</th>\n",
       "      <th>sub_category_class</th>\n",
       "      <th>sub_category_class_en</th>\n",
       "    </tr>\n",
       "  </thead>\n",
       "  <tbody>\n",
       "    <tr>\n",
       "      <th>4</th>\n",
       "      <td>M1010349-86424</td>\n",
       "      <td>Flare</td>\n",
       "      <td>NaN</td>\n",
       "    </tr>\n",
       "    <tr>\n",
       "      <th>5</th>\n",
       "      <td>M101225-83488</td>\n",
       "      <td>Flare</td>\n",
       "      <td>NaN</td>\n",
       "    </tr>\n",
       "    <tr>\n",
       "      <th>12</th>\n",
       "      <td>M101225-91318</td>\n",
       "      <td>Flare</td>\n",
       "      <td>NaN</td>\n",
       "    </tr>\n",
       "    <tr>\n",
       "      <th>17</th>\n",
       "      <td>M1081191053</td>\n",
       "      <td>Flare</td>\n",
       "      <td>NaN</td>\n",
       "    </tr>\n",
       "    <tr>\n",
       "      <th>23</th>\n",
       "      <td>M1010349-86249</td>\n",
       "      <td>Flare</td>\n",
       "      <td>NaN</td>\n",
       "    </tr>\n",
       "    <tr>\n",
       "      <th>...</th>\n",
       "      <td>...</td>\n",
       "      <td>...</td>\n",
       "      <td>...</td>\n",
       "    </tr>\n",
       "    <tr>\n",
       "      <th>1496</th>\n",
       "      <td>M101489-83776</td>\n",
       "      <td>Flare</td>\n",
       "      <td>NaN</td>\n",
       "    </tr>\n",
       "    <tr>\n",
       "      <th>1503</th>\n",
       "      <td>M100488-88765</td>\n",
       "      <td>Flare</td>\n",
       "      <td>NaN</td>\n",
       "    </tr>\n",
       "    <tr>\n",
       "      <th>1504</th>\n",
       "      <td>M1010578-89222</td>\n",
       "      <td>Flare</td>\n",
       "      <td>NaN</td>\n",
       "    </tr>\n",
       "    <tr>\n",
       "      <th>1508</th>\n",
       "      <td>M101225-84394</td>\n",
       "      <td>Flare</td>\n",
       "      <td>NaN</td>\n",
       "    </tr>\n",
       "    <tr>\n",
       "      <th>1510</th>\n",
       "      <td>M101225-35482</td>\n",
       "      <td>Flare</td>\n",
       "      <td>NaN</td>\n",
       "    </tr>\n",
       "  </tbody>\n",
       "</table>\n",
       "<p>285 rows × 3 columns</p>\n",
       "</div>"
      ],
      "text/plain": [
       "        product_code sub_category_class sub_category_class_en\n",
       "4     M1010349-86424              Flare                   NaN\n",
       "5      M101225-83488              Flare                   NaN\n",
       "12     M101225-91318              Flare                   NaN\n",
       "17       M1081191053              Flare                   NaN\n",
       "23    M1010349-86249              Flare                   NaN\n",
       "...              ...                ...                   ...\n",
       "1496   M101489-83776              Flare                   NaN\n",
       "1503   M100488-88765              Flare                   NaN\n",
       "1504  M1010578-89222              Flare                   NaN\n",
       "1508   M101225-84394              Flare                   NaN\n",
       "1510   M101225-35482              Flare                   NaN\n",
       "\n",
       "[285 rows x 3 columns]"
      ]
     },
     "execution_count": 18,
     "metadata": {},
     "output_type": "execute_result"
    }
   ],
   "source": [
    "# İki kolonda değişik olan tek şey sub_category_class sütunundaki Flare , sub_category_class_en sütununda boş değere sahip olması\n",
    "product_df[~equal][['product_code', 'sub_category_class', 'sub_category_class_en']]"
   ]
  },
  {
   "cell_type": "code",
   "execution_count": 19,
   "id": "435555ab-a443-4a62-9a84-686e830846e3",
   "metadata": {},
   "outputs": [],
   "source": [
    "# Analize etki etmeyeceği için boş değer içeren kolonu düşürmek daha mantıklı\n",
    "product_df = product_df.drop(columns=['sub_category_class_en'])"
   ]
  },
  {
   "cell_type": "code",
   "execution_count": 20,
   "id": "c39dd15b-f4fb-400f-a873-aec0d0357265",
   "metadata": {},
   "outputs": [],
   "source": [
    "# Veri tipini düzeltme\n",
    "product_df['sub_category_class'] = product_df['sub_category_class'].astype('category')\n",
    "product_df['product_code'] = product_df['product_code'].astype('category')"
   ]
  },
  {
   "cell_type": "code",
   "execution_count": 21,
   "id": "b7207058-ca13-433e-b721-c8361085d69a",
   "metadata": {},
   "outputs": [
    {
     "data": {
      "text/plain": [
       "product_code          category\n",
       "sub_category_class    category\n",
       "dtype: object"
      ]
     },
     "execution_count": 21,
     "metadata": {},
     "output_type": "execute_result"
    }
   ],
   "source": [
    "product_df.dtypes"
   ]
  },
  {
   "cell_type": "code",
   "execution_count": 22,
   "id": "502351e3-7115-428d-b1e4-7a6bbe90097d",
   "metadata": {},
   "outputs": [],
   "source": [
    "product_df = product_df.drop_duplicates()"
   ]
  },
  {
   "cell_type": "code",
   "execution_count": 23,
   "id": "f6daa516-de6c-458e-896b-512e346c9c1c",
   "metadata": {},
   "outputs": [
    {
     "name": "stdout",
     "output_type": "stream",
     "text": [
      "sub_category_class\n",
      "Wide Leg               304\n",
      "Flare                  277\n",
      "Straight               215\n",
      "Skinny                 197\n",
      "Mom                    135\n",
      "Slim Straight          115\n",
      "Super Skinny            91\n",
      "Boyfriend               82\n",
      "Baggy                   79\n",
      "Colored Denims           4\n",
      "Büyük Beden              3\n",
      "Maternity                2\n",
      "Denim All                2\n",
      "Fashion Woven Pants      1\n",
      "Renkli Denim             1\n",
      "Cord Pants               1\n",
      "Cargo Pants              1\n",
      "Hamile                   1\n",
      "Name: count, dtype: int64\n"
     ]
    }
   ],
   "source": [
    "# Kategori dağılımını kontrol etme\n",
    "print(product_df['sub_category_class'].value_counts())"
   ]
  },
  {
   "cell_type": "code",
   "execution_count": 24,
   "id": "b547437d-f8e9-4a5f-abcd-1c4dee9edd4c",
   "metadata": {},
   "outputs": [],
   "source": [
    "# Analizi daha başarılı yapabilmek için az sayıdaki kategorileri birleştirme\n",
    "# Önce kategori frekanslarını hesapla\n",
    "counts = product_df['sub_category_class'].value_counts()\n"
   ]
  },
  {
   "cell_type": "code",
   "execution_count": 25,
   "id": "020a40d4-a5e0-47a8-a332-fc719dc5b7a6",
   "metadata": {},
   "outputs": [],
   "source": [
    "# 10'dan az olan kategorileri bul\n",
    "rare_categories = counts[counts < 10].index"
   ]
  },
  {
   "cell_type": "code",
   "execution_count": 26,
   "id": "87bdfc54-6a59-415c-b6a7-91c9afa948a1",
   "metadata": {},
   "outputs": [],
   "source": [
    "# Bu az kategorileri 'Diğer' olarak değiştir\n",
    "product_df['sub_category_class'] = product_df['sub_category_class'].apply(lambda x: 'Diğer' if x in rare_categories else x)\n"
   ]
  },
  {
   "cell_type": "code",
   "execution_count": 27,
   "id": "91cedcb8-629a-4a0f-b18e-6c40b4dbe6ed",
   "metadata": {},
   "outputs": [
    {
     "name": "stdout",
     "output_type": "stream",
     "text": [
      "sub_category_class\n",
      "Wide Leg         304\n",
      "Flare            277\n",
      "Straight         215\n",
      "Skinny           197\n",
      "Mom              135\n",
      "Slim Straight    115\n",
      "Super Skinny      91\n",
      "Boyfriend         82\n",
      "Baggy             79\n",
      "Diğer             16\n",
      "Name: count, dtype: int64\n"
     ]
    }
   ],
   "source": [
    "# Sonuçları kontrol et\n",
    "print(product_df['sub_category_class'].value_counts())"
   ]
  },
  {
   "cell_type": "code",
   "execution_count": 28,
   "id": "7bca34b5-2f92-44a8-9022-c72c6cef7ef1",
   "metadata": {},
   "outputs": [],
   "source": [
    "sales_df[\"datetime\"] = pd.to_datetime(sales_df[\"datetime\"])\n",
    "\n",
    "# Net tutar ve indirim oranı\n",
    "sales_df[\"net_amount\"] = sales_df[\"amount\"] - sales_df[\"discount_amount\"]\n",
    "sales_df[\"discount_rate\"] = sales_df[\"discount_amount\"] / sales_df[\"amount\"]\n",
    "\n",
    "# Birleştirme\n",
    "merged_df = pd.merge(sales_df, product_df, how=\"left\", on=\"product_code\")\n",
    "\n"
   ]
  },
  {
   "cell_type": "code",
   "execution_count": 29,
   "id": "c1d61639-ad26-41a8-af13-6f13f511db48",
   "metadata": {},
   "outputs": [
    {
     "name": "stdout",
     "output_type": "stream",
     "text": [
      "##################### Shape #####################\n",
      "(25984, 15)\n",
      "##################### Types #####################\n",
      "doc_id                         int64\n",
      "store_code                  category\n",
      "product_item_code           category\n",
      "product_code                  object\n",
      "date                  datetime64[ns]\n",
      "return_flag                     bool\n",
      "time                          object\n",
      "quantity                       int64\n",
      "amount                       float64\n",
      "discount_amount              float64\n",
      "change_card_flag                bool\n",
      "datetime              datetime64[ns]\n",
      "net_amount                   float64\n",
      "discount_rate                float64\n",
      "sub_category_class            object\n",
      "dtype: object\n",
      "##################### Head #####################\n",
      "   doc_id store_code product_item_code   product_code       date  return_flag  \\\n",
      "0       2       1851  M100462-80835007  M100462-80835 2024-04-07        False   \n",
      "1       3       1666  M100462-80835007  M100462-80835 2024-02-04        False   \n",
      "2       4       1666  M100462-80835007  M100462-80835 2024-02-02        False   \n",
      "\n",
      "       time  quantity   amount  discount_amount  change_card_flag  \\\n",
      "0  18:53:00         2   999.99        745.44545             False   \n",
      "1  16:03:00         2  1396.35        349.09091             False   \n",
      "2  19:56:00         2  1396.35        349.09091             False   \n",
      "\n",
      "             datetime  net_amount  discount_rate sub_category_class  \n",
      "0 2024-04-07 18:53:00   254.54455       0.745453       Super Skinny  \n",
      "1 2024-02-04 16:03:00  1047.25909       0.250002       Super Skinny  \n",
      "2 2024-02-02 19:56:00  1047.25909       0.250002       Super Skinny  \n",
      "##################### Tail #####################\n",
      "       doc_id store_code product_item_code   product_code       date  \\\n",
      "25981   39996       1825  M100980-82211042  M100980-82211 2025-01-11   \n",
      "25982   39997       1825  M101225-80680017  M101225-80680 2024-11-01   \n",
      "25983   40000       1631  M100277-33687015  M100277-33687 2024-12-26   \n",
      "\n",
      "       return_flag      time  quantity      amount  discount_amount  \\\n",
      "25981        False  15:41:00         1  1272.71818              0.0   \n",
      "25982        False  17:38:00         1   818.17000              0.0   \n",
      "25983        False  14:40:00         1   909.08000              0.0   \n",
      "\n",
      "       change_card_flag            datetime  net_amount  discount_rate  \\\n",
      "25981             False 2025-01-11 15:41:00  1272.71818            0.0   \n",
      "25982             False 2024-11-01 17:38:00   818.17000            0.0   \n",
      "25983             False 2024-12-26 14:40:00   909.08000            0.0   \n",
      "\n",
      "      sub_category_class  \n",
      "25981       Super Skinny  \n",
      "25982              Flare  \n",
      "25983                Mom  \n",
      "##################### NA #####################\n",
      "doc_id                0\n",
      "store_code            0\n",
      "product_item_code     0\n",
      "product_code          0\n",
      "date                  0\n",
      "return_flag           0\n",
      "time                  0\n",
      "quantity              0\n",
      "amount                0\n",
      "discount_amount       0\n",
      "change_card_flag      0\n",
      "datetime              0\n",
      "net_amount            0\n",
      "discount_rate         0\n",
      "sub_category_class    0\n",
      "dtype: int64\n"
     ]
    }
   ],
   "source": [
    "# EXPLORATORY ANALYSIS\n",
    "def check_df(dataframe):\n",
    "    print(\"##################### Shape #####################\")\n",
    "    print(dataframe.shape)\n",
    "    print(\"##################### Types #####################\")\n",
    "    print(dataframe.dtypes)\n",
    "    print(\"##################### Head #####################\")\n",
    "    print(dataframe.head(3))\n",
    "    print(\"##################### Tail #####################\")\n",
    "    print(dataframe.tail(3))\n",
    "    print(\"##################### NA #####################\")\n",
    "    print(dataframe.isnull().sum())\n",
    "    \n",
    "\n",
    "check_df(merged_df)"
   ]
  },
  {
   "cell_type": "code",
   "execution_count": 30,
   "id": "6e2e9a2e-4bff-4163-a76e-c7cceffff2c3",
   "metadata": {},
   "outputs": [
    {
     "name": "stdout",
     "output_type": "stream",
     "text": [
      "Günlük Satış Trendleri:\n",
      "            date   net_amount  quantity\n",
      "0    2024-02-01  35048.16595        43\n",
      "1    2024-02-02  44441.23436        55\n",
      "2    2024-02-03  45911.62657        59\n",
      "3    2024-02-04  61728.02777        81\n",
      "4    2024-02-05  20910.27656        27\n",
      "..          ...          ...       ...\n",
      "361  2025-01-27  59804.48517        53\n",
      "362  2025-01-28  66114.50846        57\n",
      "363  2025-01-29  67911.31770        71\n",
      "364  2025-01-30  68003.71155        61\n",
      "365  2025-01-31  76521.67146        72\n",
      "\n",
      "[366 rows x 3 columns]\n",
      "\n",
      "Kategori Özeti:\n",
      "   sub_category_class  quantity    net_amount  discount_rate\n",
      "7           Straight      5629  5.588764e+06       0.207551\n",
      "3              Flare      4620  4.378977e+06       0.050576\n",
      "4                Mom      5083  3.847524e+06       0.119555\n",
      "9           Wide Leg      3242  3.286241e+06       0.110926\n",
      "8       Super Skinny      2707  2.395484e+06       0.075227\n",
      "6      Slim Straight      2210  2.005598e+06       0.031694\n",
      "0              Baggy      1229  1.255699e+06       0.079320\n",
      "5             Skinny      1097  1.029655e+06       0.127314\n",
      "2              Diğer       146  1.097223e+05       0.256270\n",
      "1          Boyfriend        48  1.056097e+04       0.463782\n",
      "\n",
      "Saat Bazlı Satış Yoğunluğu:\n",
      "     hour    net_amount  quantity\n",
      "0      9  2.527247e+03         3\n",
      "1     10  3.127783e+05       347\n",
      "2     11  7.271843e+05       795\n",
      "3     12  1.419171e+06      1549\n",
      "4     13  1.879978e+06      2034\n",
      "5     14  2.313450e+06      2499\n",
      "6     15  2.681126e+06      2896\n",
      "7     16  2.773368e+06      2995\n",
      "8     17  2.825505e+06      3062\n",
      "9     18  2.760201e+06      3019\n",
      "10    19  2.505006e+06      2712\n",
      "11    20  2.163489e+06      2367\n",
      "12    21  1.422056e+06      1598\n",
      "13    22  1.042337e+05       119\n",
      "14    23  1.815243e+04        16\n",
      "\n",
      "En Çok Satılan Ürünler:\n",
      "        product_code  quantity    net_amount\n",
      "88    M101048-84417      1848  1.730812e+06\n",
      "110  M1010627-87211      1835  1.828746e+06\n",
      "188   M101225-80680      1385  1.289801e+06\n",
      "66   M1010299-83039      1174  1.097867e+06\n",
      "216   M101441-86391      1061  1.121211e+06\n",
      "3     M100277-35250       984  9.050948e+05\n",
      "1     M100277-33555       974  4.847918e+05\n",
      "123   M101072-34111       942  1.011052e+06\n",
      "211   M101441-82297       934  9.286828e+05\n",
      "41    M100980-82211       827  9.613597e+05\n"
     ]
    }
   ],
   "source": [
    "# Günlük satış trendi\n",
    "daily_sales = merged_df.groupby(merged_df[\"datetime\"].dt.date).agg({\n",
    "    \"net_amount\": \"sum\",\n",
    "    \"quantity\": \"sum\"\n",
    "}).reset_index().rename(columns={\"datetime\": \"date\"})\n",
    "\n",
    "# Kategori bazlı analiz\n",
    "category_summary = merged_df.groupby(\"sub_category_class\").agg({\n",
    "    \"quantity\": \"sum\",\n",
    "    \"net_amount\": \"sum\",\n",
    "    \"discount_rate\": \"mean\"\n",
    "}).reset_index().sort_values(\"net_amount\", ascending=False)\n",
    "\n",
    "# Saat bazlı yoğunluk\n",
    "merged_df[\"hour\"] = merged_df[\"datetime\"].dt.hour\n",
    "hourly_sales = merged_df.groupby(\"hour\").agg({\n",
    "    \"net_amount\": \"sum\",\n",
    "    \"quantity\": \"sum\"\n",
    "}).reset_index()\n",
    "\n",
    "# En çok satılan ilk 10 ürün\n",
    "top_products = merged_df.groupby(\"product_code\").agg({\n",
    "    \"quantity\": \"sum\",\n",
    "    \"net_amount\": \"sum\"\n",
    "}).reset_index().sort_values(\"quantity\", ascending=False).head(10)\n",
    "\n",
    "# Sonuçları yazdır\n",
    "print(\"Günlük Satış Trendleri:\\n\", daily_sales)\n",
    "print(\"\\nKategori Özeti:\\n\", category_summary)\n",
    "print(\"\\nSaat Bazlı Satış Yoğunluğu:\\n\", hourly_sales)\n",
    "print(\"\\nEn Çok Satılan Ürünler:\\n\", top_products)"
   ]
  },
  {
   "cell_type": "code",
   "execution_count": 31,
   "id": "2397748b-80ea-4e02-9b07-de9274b2b0e7",
   "metadata": {},
   "outputs": [
    {
     "name": "stdout",
     "output_type": "stream",
     "text": [
      "\n",
      "Excel dosyası oluşturuldu: satis_analizi.xlsx\n"
     ]
    }
   ],
   "source": [
    "output_path = \"satis_analizi.xlsx\"\n",
    "\n",
    "with pd.ExcelWriter(output_path, engine='openpyxl') as writer:\n",
    "    daily_sales.to_excel(writer, sheet_name=\"Gunluk_Satis_Trendi\", index=False)\n",
    "    category_summary.to_excel(writer, sheet_name=\"Kategori_Ozeti\", index=False)\n",
    "    hourly_sales.to_excel(writer, sheet_name=\"Saat_Bazli_Yogunluk\", index=False)\n",
    "    top_products.to_excel(writer, sheet_name=\"En_Cok_Satan_Urunler\", index=False)\n",
    "\n",
    "print(f\"\\nExcel dosyası oluşturuldu: {output_path}\")\n"
   ]
  },
  {
   "cell_type": "code",
   "execution_count": 32,
   "id": "8acadce0-f826-4ff9-b157-f887c8a213e3",
   "metadata": {},
   "outputs": [],
   "source": [
    "# 1. Fact tablosu (birleşik veri)\n",
    "sales_fact = merged_df.copy()\n",
    "\n",
    "# 2. Tarih boyutu\n",
    "date_dim = merged_df[[\"date\"]].drop_duplicates().sort_values(\"date\")\n",
    "date_dim[\"date\"] = pd.to_datetime(date_dim[\"date\"])\n",
    "\n",
    "# 3. Saat boyutu\n",
    "hour_dim = pd.DataFrame({\"hour\": range(0, 24)})\n",
    "\n",
    "# 4. Ürün boyutu\n",
    "product_dim = merged_df[[\"product_code\", \"sub_category_class\"]].drop_duplicates()\n",
    "product_dim.columns = [\"product_code\", \"sub_category_class\"]\n",
    "\n",
    "# 5. Kategori boyutu\n",
    "category_dim = product_dim[[\"sub_category_class\"]].drop_duplicates()\n",
    "category_dim.columns = [\"sub_category_class\"]\n",
    "\n",
    "# 6. Excel'e yaz\n",
    "with pd.ExcelWriter(\"satis_model.xlsx\", engine=\"openpyxl\") as writer:\n",
    "    sales_fact.to_excel(writer, sheet_name=\"sales_fact\", index=False)\n",
    "    date_dim.to_excel(writer, sheet_name=\"date_dim\", index=False)\n",
    "    hour_dim.to_excel(writer, sheet_name=\"hour_dim\", index=False)\n",
    "    product_dim.to_excel(writer, sheet_name=\"product_dim\", index=False)\n",
    "    category_dim.to_excel(writer, sheet_name=\"category_dim\", index=False)\n"
   ]
  },
  {
   "cell_type": "code",
   "execution_count": null,
   "id": "cdcde746-4b83-4459-8f95-bebb1414b0a2",
   "metadata": {},
   "outputs": [],
   "source": []
  }
 ],
 "metadata": {
  "kernelspec": {
   "display_name": "Python 3 (ipykernel)",
   "language": "python",
   "name": "python3"
  },
  "language_info": {
   "codemirror_mode": {
    "name": "ipython",
    "version": 3
   },
   "file_extension": ".py",
   "mimetype": "text/x-python",
   "name": "python",
   "nbconvert_exporter": "python",
   "pygments_lexer": "ipython3",
   "version": "3.11.7"
  }
 },
 "nbformat": 4,
 "nbformat_minor": 5
}
